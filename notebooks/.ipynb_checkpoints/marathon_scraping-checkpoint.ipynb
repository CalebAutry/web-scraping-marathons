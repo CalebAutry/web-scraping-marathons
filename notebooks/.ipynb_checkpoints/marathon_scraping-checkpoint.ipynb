{
 "cells": [
  {
   "cell_type": "code",
   "execution_count": 1,
   "metadata": {},
   "outputs": [],
   "source": [
    "import requests\n",
    "from bs4 import BeautifulSoup  \n",
    "import pandas as pd"
   ]
  },
  {
   "cell_type": "code",
   "execution_count": 2,
   "metadata": {},
   "outputs": [],
   "source": [
    "# urlbase_2019 = 'https://api.competitor.com/public/result/subevent/622BBEE3-D94F-E811-941E-005056951BF1?$limit=50&$sort[FinishRankOverall]=1&$skip='\n",
    "# urlbase_2018 = 'https://api.competitor.com/public/result/subevent/DEDEEE82-E676-E711-9418-005056951BF1?$limit=50&$sort[FinishRankOverall]=1&$skip='\n",
    "# urlbase_2017 = 'https://api.competitor.com/public/result/subevent/9D1CE788-E676-E711-9418-005056951BF1?$limit=50&$sort[FinishRankOverall]=1&$skip='\n",
    "# headers = {'WTC_PRIV_KEY': '90da38d91a0648f89823e375a43b2dc8'}"
   ]
  },
  {
   "cell_type": "markdown",
   "metadata": {},
   "source": [
    "### 2019 results"
   ]
  },
  {
   "cell_type": "code",
   "execution_count": 3,
   "metadata": {},
   "outputs": [
    {
     "name": "stdout",
     "output_type": "stream",
     "text": [
      "We have 2811 total results\n"
     ]
    }
   ],
   "source": [
    "# Start with an empty list\n",
    "results_2019 = []\n",
    "\n",
    "# Loop through from pages 1 to 57\n",
    "for page_num in range(1, 58):\n",
    "    # Build the URL and download the results\n",
    "    url = 'https://api.competitor.com/public/result/subevent/622BBEE3-D94F-E811-941E-005056951BF1?$limit=50&$sort[FinishRankOverall]=1&$skip=' + str((page_num-1)*50)\n",
    "    #print(\"Downloading\", url)\n",
    "    response = requests.get(url, headers = {'WTC_PRIV_KEY': '90da38d91a0648f89823e375a43b2dc8'})\n",
    "    data = response.json()\n",
    "    results_2019 = results_2019 + data['data']\n",
    "\n",
    "\n",
    "print(\"We have\", len(results_2019), \"total results\")"
   ]
  },
  {
   "cell_type": "code",
   "execution_count": 4,
   "metadata": {},
   "outputs": [
    {
     "data": {
      "text/plain": [
       "(2811, 39)"
      ]
     },
     "execution_count": 4,
     "metadata": {},
     "output_type": "execute_result"
    }
   ],
   "source": [
    "resp_19 = pd.DataFrame(results_2019)\n",
    "resp_19.shape"
   ]
  },
  {
   "cell_type": "code",
   "execution_count": 5,
   "metadata": {},
   "outputs": [
    {
     "data": {
      "text/html": [
       "<div>\n",
       "<style scoped>\n",
       "    .dataframe tbody tr th:only-of-type {\n",
       "        vertical-align: middle;\n",
       "    }\n",
       "\n",
       "    .dataframe tbody tr th {\n",
       "        vertical-align: top;\n",
       "    }\n",
       "\n",
       "    .dataframe thead th {\n",
       "        text-align: right;\n",
       "    }\n",
       "</style>\n",
       "<table border=\"1\" class=\"dataframe\">\n",
       "  <thead>\n",
       "    <tr style=\"text-align: right;\">\n",
       "      <th></th>\n",
       "      <th>RunTimeConverted</th>\n",
       "      <th>SwimTimeConverted</th>\n",
       "      <th>BikeTimeConverted</th>\n",
       "      <th>FinishTimeConverted</th>\n",
       "      <th>Transition1TimeConverted</th>\n",
       "      <th>Transition2TimeConverted</th>\n",
       "      <th>CountryISO2</th>\n",
       "      <th>SubeventName</th>\n",
       "      <th>ResultId</th>\n",
       "      <th>ContactId</th>\n",
       "      <th>...</th>\n",
       "      <th>RunRankGender</th>\n",
       "      <th>RunRankOverall</th>\n",
       "      <th>SyncDate</th>\n",
       "      <th>SubEventId</th>\n",
       "      <th>RankPoints</th>\n",
       "      <th>Country</th>\n",
       "      <th>Subevent</th>\n",
       "      <th>Badge_Result</th>\n",
       "      <th>FullName</th>\n",
       "      <th>Gender</th>\n",
       "    </tr>\n",
       "  </thead>\n",
       "  <tbody>\n",
       "    <tr>\n",
       "      <th>0</th>\n",
       "      <td>1:37:54</td>\n",
       "      <td>00:00:00</td>\n",
       "      <td>00:00:00</td>\n",
       "      <td>1:37:54</td>\n",
       "      <td>00:00:00</td>\n",
       "      <td>00:00:00</td>\n",
       "      <td>US</td>\n",
       "      <td>2019 Rock 'n' Roll Nashville Marathon</td>\n",
       "      <td>BAD64F55-2468-4852-B2D7-79645CC406CF</td>\n",
       "      <td>EB221D69-153D-4604-96E0-274EB04F452C</td>\n",
       "      <td>...</td>\n",
       "      <td>1</td>\n",
       "      <td>1</td>\n",
       "      <td>2019-08-15T15:35:53.620Z</td>\n",
       "      <td>622BBEE3-D94F-E811-941E-005056951BF1</td>\n",
       "      <td>None</td>\n",
       "      <td>{'ISO2': 'US'}</td>\n",
       "      <td>{'SubEvent': '2019 Rock 'n' Roll Nashville Mar...</td>\n",
       "      <td>None</td>\n",
       "      <td>Travis Peruski</td>\n",
       "      <td>M</td>\n",
       "    </tr>\n",
       "    <tr>\n",
       "      <th>1</th>\n",
       "      <td>2:34:59</td>\n",
       "      <td>00:00:00</td>\n",
       "      <td>00:00:00</td>\n",
       "      <td>2:34:59</td>\n",
       "      <td>00:00:00</td>\n",
       "      <td>00:00:00</td>\n",
       "      <td>US</td>\n",
       "      <td>2019 Rock 'n' Roll Nashville Marathon</td>\n",
       "      <td>BA893A3C-B2BB-4C83-B372-AF68521F7FB6</td>\n",
       "      <td>BED376E7-A066-43C9-A759-4C476A939CFA</td>\n",
       "      <td>...</td>\n",
       "      <td>2</td>\n",
       "      <td>2</td>\n",
       "      <td>2019-08-15T15:35:53.620Z</td>\n",
       "      <td>622BBEE3-D94F-E811-941E-005056951BF1</td>\n",
       "      <td>None</td>\n",
       "      <td>{'ISO2': 'US'}</td>\n",
       "      <td>{'SubEvent': '2019 Rock 'n' Roll Nashville Mar...</td>\n",
       "      <td>None</td>\n",
       "      <td>Scott Wietecha</td>\n",
       "      <td>M</td>\n",
       "    </tr>\n",
       "    <tr>\n",
       "      <th>2</th>\n",
       "      <td>2:35:24</td>\n",
       "      <td>00:00:00</td>\n",
       "      <td>00:00:00</td>\n",
       "      <td>2:35:24</td>\n",
       "      <td>00:00:00</td>\n",
       "      <td>00:00:00</td>\n",
       "      <td>US</td>\n",
       "      <td>2019 Rock 'n' Roll Nashville Marathon</td>\n",
       "      <td>B67E182D-62C5-493F-BEE8-83363643BE44</td>\n",
       "      <td>936B5582-6102-42FC-8F8A-559D44484658</td>\n",
       "      <td>...</td>\n",
       "      <td>3</td>\n",
       "      <td>3</td>\n",
       "      <td>2020-03-17T16:30:36.613Z</td>\n",
       "      <td>622BBEE3-D94F-E811-941E-005056951BF1</td>\n",
       "      <td>None</td>\n",
       "      <td>{'ISO2': 'US'}</td>\n",
       "      <td>{'SubEvent': '2019 Rock 'n' Roll Nashville Mar...</td>\n",
       "      <td>None</td>\n",
       "      <td>Jordan Wilson</td>\n",
       "      <td>M</td>\n",
       "    </tr>\n",
       "  </tbody>\n",
       "</table>\n",
       "<p>3 rows × 40 columns</p>\n",
       "</div>"
      ],
      "text/plain": [
       "  RunTimeConverted SwimTimeConverted BikeTimeConverted FinishTimeConverted  \\\n",
       "0          1:37:54          00:00:00          00:00:00             1:37:54   \n",
       "1          2:34:59          00:00:00          00:00:00             2:34:59   \n",
       "2          2:35:24          00:00:00          00:00:00             2:35:24   \n",
       "\n",
       "  Transition1TimeConverted Transition2TimeConverted CountryISO2  \\\n",
       "0                 00:00:00                 00:00:00          US   \n",
       "1                 00:00:00                 00:00:00          US   \n",
       "2                 00:00:00                 00:00:00          US   \n",
       "\n",
       "                            SubeventName  \\\n",
       "0  2019 Rock 'n' Roll Nashville Marathon   \n",
       "1  2019 Rock 'n' Roll Nashville Marathon   \n",
       "2  2019 Rock 'n' Roll Nashville Marathon   \n",
       "\n",
       "                               ResultId                             ContactId  \\\n",
       "0  BAD64F55-2468-4852-B2D7-79645CC406CF  EB221D69-153D-4604-96E0-274EB04F452C   \n",
       "1  BA893A3C-B2BB-4C83-B372-AF68521F7FB6  BED376E7-A066-43C9-A759-4C476A939CFA   \n",
       "2  B67E182D-62C5-493F-BEE8-83363643BE44  936B5582-6102-42FC-8F8A-559D44484658   \n",
       "\n",
       "   ... RunRankGender  RunRankOverall                  SyncDate  \\\n",
       "0  ...             1               1  2019-08-15T15:35:53.620Z   \n",
       "1  ...             2               2  2019-08-15T15:35:53.620Z   \n",
       "2  ...             3               3  2020-03-17T16:30:36.613Z   \n",
       "\n",
       "                             SubEventId  RankPoints         Country  \\\n",
       "0  622BBEE3-D94F-E811-941E-005056951BF1        None  {'ISO2': 'US'}   \n",
       "1  622BBEE3-D94F-E811-941E-005056951BF1        None  {'ISO2': 'US'}   \n",
       "2  622BBEE3-D94F-E811-941E-005056951BF1        None  {'ISO2': 'US'}   \n",
       "\n",
       "                                            Subevent  Badge_Result  \\\n",
       "0  {'SubEvent': '2019 Rock 'n' Roll Nashville Mar...          None   \n",
       "1  {'SubEvent': '2019 Rock 'n' Roll Nashville Mar...          None   \n",
       "2  {'SubEvent': '2019 Rock 'n' Roll Nashville Mar...          None   \n",
       "\n",
       "         FullName  Gender  \n",
       "0  Travis Peruski       M  \n",
       "1  Scott Wietecha       M  \n",
       "2   Jordan Wilson       M  \n",
       "\n",
       "[3 rows x 40 columns]"
      ]
     },
     "execution_count": 5,
     "metadata": {},
     "output_type": "execute_result"
    }
   ],
   "source": [
    "resp_19_split = pd.concat([resp_19.drop(['Contact'], axis=1), resp_19['Contact'].apply(pd.Series)], axis=1)\n",
    "resp_19_split.head(3)"
   ]
  },
  {
   "cell_type": "code",
   "execution_count": 6,
   "metadata": {},
   "outputs": [],
   "source": [
    "resp_19_split = pd.concat([resp_19_split.drop(['Country'], axis=1), resp_19_split['Country'].apply(pd.Series)], axis=1)"
   ]
  },
  {
   "cell_type": "code",
   "execution_count": 7,
   "metadata": {},
   "outputs": [],
   "source": [
    "resp_19_split = pd.concat([resp_19_split.drop(['Subevent'], axis=1), resp_19_split['Subevent'].apply(pd.Series)], axis=1)"
   ]
  },
  {
   "cell_type": "markdown",
   "metadata": {},
   "source": [
    "### 2018 results"
   ]
  },
  {
   "cell_type": "code",
   "execution_count": 8,
   "metadata": {},
   "outputs": [
    {
     "name": "stdout",
     "output_type": "stream",
     "text": [
      "We have 2115 total results\n"
     ]
    }
   ],
   "source": [
    "# Start with an empty list\n",
    "results_2018 = []\n",
    "\n",
    "# Loop through from pages 1 to 43\n",
    "for page_num in range(1, 44):\n",
    "    # Build the URL and download the results\n",
    "    url = 'https://api.competitor.com/public/result/subevent/DEDEEE82-E676-E711-9418-005056951BF1?$limit=50&$sort[FinishRankOverall]=1&$skip=' + str((page_num-1)*50)\n",
    "    #print(\"Downloading\", url)\n",
    "    response = requests.get(url, headers = {'WTC_PRIV_KEY': '90da38d91a0648f89823e375a43b2dc8'})\n",
    "    data = response.json()\n",
    "    results_2018 = results_2018 + data['data']\n",
    "\n",
    "\n",
    "print(\"We have\", len(results_2018), \"total results\")"
   ]
  },
  {
   "cell_type": "code",
   "execution_count": 9,
   "metadata": {},
   "outputs": [
    {
     "data": {
      "text/plain": [
       "(2115, 39)"
      ]
     },
     "execution_count": 9,
     "metadata": {},
     "output_type": "execute_result"
    }
   ],
   "source": [
    "resp_18 = pd.DataFrame(results_2018)\n",
    "resp_18.shape"
   ]
  },
  {
   "cell_type": "code",
   "execution_count": 10,
   "metadata": {},
   "outputs": [
    {
     "data": {
      "text/html": [
       "<div>\n",
       "<style scoped>\n",
       "    .dataframe tbody tr th:only-of-type {\n",
       "        vertical-align: middle;\n",
       "    }\n",
       "\n",
       "    .dataframe tbody tr th {\n",
       "        vertical-align: top;\n",
       "    }\n",
       "\n",
       "    .dataframe thead th {\n",
       "        text-align: right;\n",
       "    }\n",
       "</style>\n",
       "<table border=\"1\" class=\"dataframe\">\n",
       "  <thead>\n",
       "    <tr style=\"text-align: right;\">\n",
       "      <th></th>\n",
       "      <th>RunTimeConverted</th>\n",
       "      <th>SwimTimeConverted</th>\n",
       "      <th>BikeTimeConverted</th>\n",
       "      <th>FinishTimeConverted</th>\n",
       "      <th>Transition1TimeConverted</th>\n",
       "      <th>Transition2TimeConverted</th>\n",
       "      <th>CountryISO2</th>\n",
       "      <th>SubeventName</th>\n",
       "      <th>ResultId</th>\n",
       "      <th>ContactId</th>\n",
       "      <th>...</th>\n",
       "      <th>RunRankGender</th>\n",
       "      <th>RunRankOverall</th>\n",
       "      <th>SyncDate</th>\n",
       "      <th>SubEventId</th>\n",
       "      <th>RankPoints</th>\n",
       "      <th>Country</th>\n",
       "      <th>Subevent</th>\n",
       "      <th>Badge_Result</th>\n",
       "      <th>FullName</th>\n",
       "      <th>Gender</th>\n",
       "    </tr>\n",
       "  </thead>\n",
       "  <tbody>\n",
       "    <tr>\n",
       "      <th>0</th>\n",
       "      <td>2:28:16</td>\n",
       "      <td>00:00:00</td>\n",
       "      <td>00:00:00</td>\n",
       "      <td>2:28:16</td>\n",
       "      <td>00:00:00</td>\n",
       "      <td>00:00:00</td>\n",
       "      <td>US</td>\n",
       "      <td>2018 Rock 'n' Roll Nashville Marathon</td>\n",
       "      <td>DADF30D3-22B2-462B-A45B-1D7666205CC2</td>\n",
       "      <td>BED376E7-A066-43C9-A759-4C476A939CFA</td>\n",
       "      <td>...</td>\n",
       "      <td>1</td>\n",
       "      <td>1</td>\n",
       "      <td>2019-08-15T15:35:53.620Z</td>\n",
       "      <td>DEDEEE82-E676-E711-9418-005056951BF1</td>\n",
       "      <td>None</td>\n",
       "      <td>{'ISO2': 'US'}</td>\n",
       "      <td>{'SubEvent': '2018 Rock 'n' Roll Nashville Mar...</td>\n",
       "      <td>None</td>\n",
       "      <td>Scott Wietecha</td>\n",
       "      <td>M</td>\n",
       "    </tr>\n",
       "    <tr>\n",
       "      <th>1</th>\n",
       "      <td>2:29:52</td>\n",
       "      <td>00:00:00</td>\n",
       "      <td>00:00:00</td>\n",
       "      <td>2:29:52</td>\n",
       "      <td>00:00:00</td>\n",
       "      <td>00:00:00</td>\n",
       "      <td>US</td>\n",
       "      <td>2018 Rock 'n' Roll Nashville Marathon</td>\n",
       "      <td>7C438977-D240-4673-AB86-B78D2A236A04</td>\n",
       "      <td>313A73F2-42E8-409A-8277-22EF75126C9A</td>\n",
       "      <td>...</td>\n",
       "      <td>2</td>\n",
       "      <td>2</td>\n",
       "      <td>2019-08-15T15:35:53.620Z</td>\n",
       "      <td>DEDEEE82-E676-E711-9418-005056951BF1</td>\n",
       "      <td>None</td>\n",
       "      <td>{'ISO2': 'US'}</td>\n",
       "      <td>{'SubEvent': '2018 Rock 'n' Roll Nashville Mar...</td>\n",
       "      <td>None</td>\n",
       "      <td>Garang Madut</td>\n",
       "      <td>M</td>\n",
       "    </tr>\n",
       "    <tr>\n",
       "      <th>2</th>\n",
       "      <td>2:38:59</td>\n",
       "      <td>00:00:00</td>\n",
       "      <td>00:00:00</td>\n",
       "      <td>2:38:59</td>\n",
       "      <td>00:00:00</td>\n",
       "      <td>00:00:00</td>\n",
       "      <td>US</td>\n",
       "      <td>2018 Rock 'n' Roll Nashville Marathon</td>\n",
       "      <td>48893DFE-3771-4525-966D-FD6770FCD546</td>\n",
       "      <td>5831AFE3-152E-4F06-A315-049E21256DB5</td>\n",
       "      <td>...</td>\n",
       "      <td>3</td>\n",
       "      <td>3</td>\n",
       "      <td>2019-08-15T15:35:53.620Z</td>\n",
       "      <td>DEDEEE82-E676-E711-9418-005056951BF1</td>\n",
       "      <td>None</td>\n",
       "      <td>{'ISO2': 'US'}</td>\n",
       "      <td>{'SubEvent': '2018 Rock 'n' Roll Nashville Mar...</td>\n",
       "      <td>None</td>\n",
       "      <td>Kevin Fink</td>\n",
       "      <td>M</td>\n",
       "    </tr>\n",
       "  </tbody>\n",
       "</table>\n",
       "<p>3 rows × 40 columns</p>\n",
       "</div>"
      ],
      "text/plain": [
       "  RunTimeConverted SwimTimeConverted BikeTimeConverted FinishTimeConverted  \\\n",
       "0          2:28:16          00:00:00          00:00:00             2:28:16   \n",
       "1          2:29:52          00:00:00          00:00:00             2:29:52   \n",
       "2          2:38:59          00:00:00          00:00:00             2:38:59   \n",
       "\n",
       "  Transition1TimeConverted Transition2TimeConverted CountryISO2  \\\n",
       "0                 00:00:00                 00:00:00          US   \n",
       "1                 00:00:00                 00:00:00          US   \n",
       "2                 00:00:00                 00:00:00          US   \n",
       "\n",
       "                            SubeventName  \\\n",
       "0  2018 Rock 'n' Roll Nashville Marathon   \n",
       "1  2018 Rock 'n' Roll Nashville Marathon   \n",
       "2  2018 Rock 'n' Roll Nashville Marathon   \n",
       "\n",
       "                               ResultId                             ContactId  \\\n",
       "0  DADF30D3-22B2-462B-A45B-1D7666205CC2  BED376E7-A066-43C9-A759-4C476A939CFA   \n",
       "1  7C438977-D240-4673-AB86-B78D2A236A04  313A73F2-42E8-409A-8277-22EF75126C9A   \n",
       "2  48893DFE-3771-4525-966D-FD6770FCD546  5831AFE3-152E-4F06-A315-049E21256DB5   \n",
       "\n",
       "   ... RunRankGender  RunRankOverall                  SyncDate  \\\n",
       "0  ...             1               1  2019-08-15T15:35:53.620Z   \n",
       "1  ...             2               2  2019-08-15T15:35:53.620Z   \n",
       "2  ...             3               3  2019-08-15T15:35:53.620Z   \n",
       "\n",
       "                             SubEventId  RankPoints         Country  \\\n",
       "0  DEDEEE82-E676-E711-9418-005056951BF1        None  {'ISO2': 'US'}   \n",
       "1  DEDEEE82-E676-E711-9418-005056951BF1        None  {'ISO2': 'US'}   \n",
       "2  DEDEEE82-E676-E711-9418-005056951BF1        None  {'ISO2': 'US'}   \n",
       "\n",
       "                                            Subevent  Badge_Result  \\\n",
       "0  {'SubEvent': '2018 Rock 'n' Roll Nashville Mar...          None   \n",
       "1  {'SubEvent': '2018 Rock 'n' Roll Nashville Mar...          None   \n",
       "2  {'SubEvent': '2018 Rock 'n' Roll Nashville Mar...          None   \n",
       "\n",
       "         FullName  Gender  \n",
       "0  Scott Wietecha       M  \n",
       "1    Garang Madut       M  \n",
       "2      Kevin Fink       M  \n",
       "\n",
       "[3 rows x 40 columns]"
      ]
     },
     "execution_count": 10,
     "metadata": {},
     "output_type": "execute_result"
    }
   ],
   "source": [
    "resp_18_split = pd.concat([resp_18.drop(['Contact'], axis=1), resp_18['Contact'].apply(pd.Series)], axis=1)\n",
    "resp_18_split.head(3)"
   ]
  },
  {
   "cell_type": "code",
   "execution_count": 11,
   "metadata": {},
   "outputs": [],
   "source": [
    "resp_18_split = pd.concat([resp_18_split.drop(['Country'], axis=1), resp_18_split['Country'].apply(pd.Series)], axis=1)"
   ]
  },
  {
   "cell_type": "code",
   "execution_count": 12,
   "metadata": {},
   "outputs": [],
   "source": [
    "resp_18_split = pd.concat([resp_18_split.drop(['Subevent'], axis=1), resp_18_split['Subevent'].apply(pd.Series)], axis=1)"
   ]
  },
  {
   "cell_type": "markdown",
   "metadata": {},
   "source": [
    "### 2017 Results"
   ]
  },
  {
   "cell_type": "code",
   "execution_count": 13,
   "metadata": {},
   "outputs": [
    {
     "name": "stdout",
     "output_type": "stream",
     "text": [
      "We have 3651 total results\n"
     ]
    }
   ],
   "source": [
    "# Start with an empty list\n",
    "results_2017 = []\n",
    "\n",
    "# Loop through from pages 1 to 74\n",
    "for page_num in range(1, 75):\n",
    "    # Build the URL and download the results\n",
    "    url = 'https://api.competitor.com/public/result/subevent/9D1CE788-E676-E711-9418-005056951BF1?$limit=50&$sort[FinishRankOverall]=1&$skip=' + str((page_num-1)*50)\n",
    "    #print(\"Downloading\", url)\n",
    "    response = requests.get(url, headers = {'WTC_PRIV_KEY': '90da38d91a0648f89823e375a43b2dc8'})\n",
    "    data = response.json()\n",
    "    results_2017 = results_2017 + data['data']\n",
    "\n",
    "\n",
    "print(\"We have\", len(results_2017), \"total results\")"
   ]
  },
  {
   "cell_type": "code",
   "execution_count": 14,
   "metadata": {},
   "outputs": [
    {
     "data": {
      "text/plain": [
       "(3651, 39)"
      ]
     },
     "execution_count": 14,
     "metadata": {},
     "output_type": "execute_result"
    }
   ],
   "source": [
    "resp_17 = pd.DataFrame(results_2017)\n",
    "resp_17.shape"
   ]
  },
  {
   "cell_type": "code",
   "execution_count": 15,
   "metadata": {},
   "outputs": [
    {
     "data": {
      "text/html": [
       "<div>\n",
       "<style scoped>\n",
       "    .dataframe tbody tr th:only-of-type {\n",
       "        vertical-align: middle;\n",
       "    }\n",
       "\n",
       "    .dataframe tbody tr th {\n",
       "        vertical-align: top;\n",
       "    }\n",
       "\n",
       "    .dataframe thead th {\n",
       "        text-align: right;\n",
       "    }\n",
       "</style>\n",
       "<table border=\"1\" class=\"dataframe\">\n",
       "  <thead>\n",
       "    <tr style=\"text-align: right;\">\n",
       "      <th></th>\n",
       "      <th>RunTimeConverted</th>\n",
       "      <th>SwimTimeConverted</th>\n",
       "      <th>BikeTimeConverted</th>\n",
       "      <th>FinishTimeConverted</th>\n",
       "      <th>Transition1TimeConverted</th>\n",
       "      <th>Transition2TimeConverted</th>\n",
       "      <th>CountryISO2</th>\n",
       "      <th>SubeventName</th>\n",
       "      <th>ResultId</th>\n",
       "      <th>ContactId</th>\n",
       "      <th>...</th>\n",
       "      <th>RunRankGender</th>\n",
       "      <th>RunRankOverall</th>\n",
       "      <th>SyncDate</th>\n",
       "      <th>SubEventId</th>\n",
       "      <th>RankPoints</th>\n",
       "      <th>Country</th>\n",
       "      <th>Subevent</th>\n",
       "      <th>Badge_Result</th>\n",
       "      <th>FullName</th>\n",
       "      <th>Gender</th>\n",
       "    </tr>\n",
       "  </thead>\n",
       "  <tbody>\n",
       "    <tr>\n",
       "      <th>0</th>\n",
       "      <td>2:40:25</td>\n",
       "      <td>00:00:00</td>\n",
       "      <td>00:00:00</td>\n",
       "      <td>2:40:25</td>\n",
       "      <td>00:00:00</td>\n",
       "      <td>00:00:00</td>\n",
       "      <td>US</td>\n",
       "      <td>2017 Rock 'n' Roll Nashville Marathon</td>\n",
       "      <td>3E2251A4-B267-405B-AFCA-40062AF11F3C</td>\n",
       "      <td>BED376E7-A066-43C9-A759-4C476A939CFA</td>\n",
       "      <td>...</td>\n",
       "      <td>1</td>\n",
       "      <td>1</td>\n",
       "      <td>2019-08-15T15:35:53.620Z</td>\n",
       "      <td>9D1CE788-E676-E711-9418-005056951BF1</td>\n",
       "      <td>None</td>\n",
       "      <td>{'ISO2': 'US'}</td>\n",
       "      <td>{'SubEvent': '2017 Rock 'n' Roll Nashville Mar...</td>\n",
       "      <td>None</td>\n",
       "      <td>Scott Wietecha</td>\n",
       "      <td>M</td>\n",
       "    </tr>\n",
       "    <tr>\n",
       "      <th>1</th>\n",
       "      <td>2:56:28</td>\n",
       "      <td>00:00:00</td>\n",
       "      <td>00:00:00</td>\n",
       "      <td>2:56:28</td>\n",
       "      <td>00:00:00</td>\n",
       "      <td>00:00:00</td>\n",
       "      <td>US</td>\n",
       "      <td>2017 Rock 'n' Roll Nashville Marathon</td>\n",
       "      <td>DC2458F7-2667-4465-A72E-3775C85331E3</td>\n",
       "      <td>2798FABB-57BE-4E0A-A232-BCB7F2848407</td>\n",
       "      <td>...</td>\n",
       "      <td>2</td>\n",
       "      <td>2</td>\n",
       "      <td>2019-08-15T15:35:53.620Z</td>\n",
       "      <td>9D1CE788-E676-E711-9418-005056951BF1</td>\n",
       "      <td>None</td>\n",
       "      <td>{'ISO2': 'US'}</td>\n",
       "      <td>{'SubEvent': '2017 Rock 'n' Roll Nashville Mar...</td>\n",
       "      <td>None</td>\n",
       "      <td>Ryan Regnier</td>\n",
       "      <td>M</td>\n",
       "    </tr>\n",
       "    <tr>\n",
       "      <th>2</th>\n",
       "      <td>3:00:55</td>\n",
       "      <td>00:00:00</td>\n",
       "      <td>00:00:00</td>\n",
       "      <td>3:00:55</td>\n",
       "      <td>00:00:00</td>\n",
       "      <td>00:00:00</td>\n",
       "      <td>US</td>\n",
       "      <td>2017 Rock 'n' Roll Nashville Marathon</td>\n",
       "      <td>73A2A4A1-71A1-4A3F-ACA9-3538B3FD62A4</td>\n",
       "      <td>F133892E-0A21-4B04-8F45-57F194D9AF9B</td>\n",
       "      <td>...</td>\n",
       "      <td>3</td>\n",
       "      <td>3</td>\n",
       "      <td>2019-08-15T15:35:53.620Z</td>\n",
       "      <td>9D1CE788-E676-E711-9418-005056951BF1</td>\n",
       "      <td>None</td>\n",
       "      <td>{'ISO2': 'US'}</td>\n",
       "      <td>{'SubEvent': '2017 Rock 'n' Roll Nashville Mar...</td>\n",
       "      <td>None</td>\n",
       "      <td>Daniel Everett</td>\n",
       "      <td>M</td>\n",
       "    </tr>\n",
       "  </tbody>\n",
       "</table>\n",
       "<p>3 rows × 40 columns</p>\n",
       "</div>"
      ],
      "text/plain": [
       "  RunTimeConverted SwimTimeConverted BikeTimeConverted FinishTimeConverted  \\\n",
       "0          2:40:25          00:00:00          00:00:00             2:40:25   \n",
       "1          2:56:28          00:00:00          00:00:00             2:56:28   \n",
       "2          3:00:55          00:00:00          00:00:00             3:00:55   \n",
       "\n",
       "  Transition1TimeConverted Transition2TimeConverted CountryISO2  \\\n",
       "0                 00:00:00                 00:00:00          US   \n",
       "1                 00:00:00                 00:00:00          US   \n",
       "2                 00:00:00                 00:00:00          US   \n",
       "\n",
       "                            SubeventName  \\\n",
       "0  2017 Rock 'n' Roll Nashville Marathon   \n",
       "1  2017 Rock 'n' Roll Nashville Marathon   \n",
       "2  2017 Rock 'n' Roll Nashville Marathon   \n",
       "\n",
       "                               ResultId                             ContactId  \\\n",
       "0  3E2251A4-B267-405B-AFCA-40062AF11F3C  BED376E7-A066-43C9-A759-4C476A939CFA   \n",
       "1  DC2458F7-2667-4465-A72E-3775C85331E3  2798FABB-57BE-4E0A-A232-BCB7F2848407   \n",
       "2  73A2A4A1-71A1-4A3F-ACA9-3538B3FD62A4  F133892E-0A21-4B04-8F45-57F194D9AF9B   \n",
       "\n",
       "   ... RunRankGender  RunRankOverall                  SyncDate  \\\n",
       "0  ...             1               1  2019-08-15T15:35:53.620Z   \n",
       "1  ...             2               2  2019-08-15T15:35:53.620Z   \n",
       "2  ...             3               3  2019-08-15T15:35:53.620Z   \n",
       "\n",
       "                             SubEventId  RankPoints         Country  \\\n",
       "0  9D1CE788-E676-E711-9418-005056951BF1        None  {'ISO2': 'US'}   \n",
       "1  9D1CE788-E676-E711-9418-005056951BF1        None  {'ISO2': 'US'}   \n",
       "2  9D1CE788-E676-E711-9418-005056951BF1        None  {'ISO2': 'US'}   \n",
       "\n",
       "                                            Subevent  Badge_Result  \\\n",
       "0  {'SubEvent': '2017 Rock 'n' Roll Nashville Mar...          None   \n",
       "1  {'SubEvent': '2017 Rock 'n' Roll Nashville Mar...          None   \n",
       "2  {'SubEvent': '2017 Rock 'n' Roll Nashville Mar...          None   \n",
       "\n",
       "         FullName  Gender  \n",
       "0  Scott Wietecha       M  \n",
       "1    Ryan Regnier       M  \n",
       "2  Daniel Everett       M  \n",
       "\n",
       "[3 rows x 40 columns]"
      ]
     },
     "execution_count": 15,
     "metadata": {},
     "output_type": "execute_result"
    }
   ],
   "source": [
    "resp_17_split = pd.concat([resp_17.drop(['Contact'], axis=1), resp_17['Contact'].apply(pd.Series)], axis=1)\n",
    "resp_17_split.head(3)"
   ]
  },
  {
   "cell_type": "code",
   "execution_count": 16,
   "metadata": {},
   "outputs": [],
   "source": [
    "resp_17_split = pd.concat([resp_17_split.drop(['Country'], axis=1), resp_17_split['Country'].apply(pd.Series)], axis=1)"
   ]
  },
  {
   "cell_type": "code",
   "execution_count": 17,
   "metadata": {},
   "outputs": [],
   "source": [
    "resp_17_split = pd.concat([resp_17_split.drop(['Subevent'], axis=1), resp_17_split['Subevent'].apply(pd.Series)], axis=1)"
   ]
  },
  {
   "cell_type": "code",
   "execution_count": null,
   "metadata": {},
   "outputs": [],
   "source": [
    "#marathon_results_2017.to_csv('./data/marathon_results_2017.csv', index=False)"
   ]
  },
  {
   "cell_type": "code",
   "execution_count": 18,
   "metadata": {},
   "outputs": [],
   "source": [
    "resp_19_split.to_csv('../data/maraton_results_2019.csv', index=False)"
   ]
  },
  {
   "cell_type": "code",
   "execution_count": 19,
   "metadata": {},
   "outputs": [],
   "source": [
    "resp_18_split.to_csv('../data/maraton_results_2018.csv', index=False)"
   ]
  },
  {
   "cell_type": "code",
   "execution_count": 20,
   "metadata": {},
   "outputs": [],
   "source": [
    "resp_17_split.to_csv('../data/maraton_results_2017.csv', index=False)"
   ]
  },
  {
   "cell_type": "code",
   "execution_count": null,
   "metadata": {},
   "outputs": [],
   "source": []
  }
 ],
 "metadata": {
  "kernelspec": {
   "display_name": "Python 3",
   "language": "python",
   "name": "python3"
  },
  "language_info": {
   "codemirror_mode": {
    "name": "ipython",
    "version": 3
   },
   "file_extension": ".py",
   "mimetype": "text/x-python",
   "name": "python",
   "nbconvert_exporter": "python",
   "pygments_lexer": "ipython3",
   "version": "3.8.3"
  }
 },
 "nbformat": 4,
 "nbformat_minor": 4
}
