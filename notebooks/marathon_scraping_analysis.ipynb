{
 "cells": [
  {
   "cell_type": "code",
   "execution_count": 1,
   "metadata": {},
   "outputs": [],
   "source": [
    "import pandas as pd\n",
    "import matplotlib.pyplot as plt\n",
    "from datetime import timedelta\n",
    "import seaborn as sns"
   ]
  },
  {
   "cell_type": "code",
   "execution_count": 2,
   "metadata": {},
   "outputs": [],
   "source": [
    "mar19 = pd.read_csv('../data/maraton_results_2019.csv')\n",
    "mar18 = pd.read_csv('../data/maraton_results_2018.csv')\n",
    "mar17 = pd.read_csv('../data/maraton_results_2017.csv')"
   ]
  },
  {
   "cell_type": "code",
   "execution_count": 3,
   "metadata": {},
   "outputs": [
    {
     "name": "stdout",
     "output_type": "stream",
     "text": [
      "(2811, 40)\n",
      "(2115, 40)\n",
      "(3651, 40)\n"
     ]
    }
   ],
   "source": [
    "print(mar19.shape)\n",
    "print(mar18.shape)\n",
    "print(mar17.shape)"
   ]
  },
  {
   "cell_type": "code",
   "execution_count": 4,
   "metadata": {},
   "outputs": [],
   "source": [
    "mar_sub19 = mar19[['FinishTimeConverted', 'FullName', 'Gender', 'ISO2', 'SubEvent']]"
   ]
  },
  {
   "cell_type": "code",
   "execution_count": 5,
   "metadata": {},
   "outputs": [],
   "source": [
    "mar_sub18 = mar18[['FinishTimeConverted', 'FullName', 'Gender', 'ISO2', 'SubEvent']]"
   ]
  },
  {
   "cell_type": "code",
   "execution_count": 6,
   "metadata": {},
   "outputs": [],
   "source": [
    "mar_sub17 = mar17[['FinishTimeConverted', 'FullName', 'Gender', 'ISO2', 'SubEvent']]"
   ]
  },
  {
   "cell_type": "code",
   "execution_count": 7,
   "metadata": {},
   "outputs": [
    {
     "name": "stderr",
     "output_type": "stream",
     "text": [
      "<ipython-input-7-0cdedb4335a5>:1: SettingWithCopyWarning: \n",
      "A value is trying to be set on a copy of a slice from a DataFrame.\n",
      "Try using .loc[row_indexer,col_indexer] = value instead\n",
      "\n",
      "See the caveats in the documentation: https://pandas.pydata.org/pandas-docs/stable/user_guide/indexing.html#returning-a-view-versus-a-copy\n",
      "  mar_sub19['minutes']=pd.to_timedelta(mar_sub19['FinishTimeConverted']).apply(lambda x:x.seconds/60)\n"
     ]
    }
   ],
   "source": [
    "mar_sub19['minutes']=pd.to_timedelta(mar_sub19['FinishTimeConverted']).apply(lambda x:x.seconds/60)"
   ]
  },
  {
   "cell_type": "code",
   "execution_count": 8,
   "metadata": {},
   "outputs": [
    {
     "name": "stderr",
     "output_type": "stream",
     "text": [
      "<ipython-input-8-3ab316854be6>:1: SettingWithCopyWarning: \n",
      "A value is trying to be set on a copy of a slice from a DataFrame.\n",
      "Try using .loc[row_indexer,col_indexer] = value instead\n",
      "\n",
      "See the caveats in the documentation: https://pandas.pydata.org/pandas-docs/stable/user_guide/indexing.html#returning-a-view-versus-a-copy\n",
      "  mar_sub18['minutes']=pd.to_timedelta(mar_sub18['FinishTimeConverted']).apply(lambda x:x.seconds/60)\n"
     ]
    }
   ],
   "source": [
    "mar_sub18['minutes']=pd.to_timedelta(mar_sub18['FinishTimeConverted']).apply(lambda x:x.seconds/60)"
   ]
  },
  {
   "cell_type": "code",
   "execution_count": 9,
   "metadata": {},
   "outputs": [
    {
     "name": "stderr",
     "output_type": "stream",
     "text": [
      "<ipython-input-9-38f4d9f6df93>:1: SettingWithCopyWarning: \n",
      "A value is trying to be set on a copy of a slice from a DataFrame.\n",
      "Try using .loc[row_indexer,col_indexer] = value instead\n",
      "\n",
      "See the caveats in the documentation: https://pandas.pydata.org/pandas-docs/stable/user_guide/indexing.html#returning-a-view-versus-a-copy\n",
      "  mar_sub17['minutes']=pd.to_timedelta(mar_sub17['FinishTimeConverted']).apply(lambda x:x.seconds/60)\n"
     ]
    }
   ],
   "source": [
    "mar_sub17['minutes']=pd.to_timedelta(mar_sub17['FinishTimeConverted']).apply(lambda x:x.seconds/60)"
   ]
  },
  {
   "cell_type": "code",
   "execution_count": 10,
   "metadata": {},
   "outputs": [
    {
     "name": "stdout",
     "output_type": "stream",
     "text": [
      "<class 'pandas.core.frame.DataFrame'>\n",
      "RangeIndex: 2811 entries, 0 to 2810\n",
      "Data columns (total 6 columns):\n",
      " #   Column               Non-Null Count  Dtype  \n",
      "---  ------               --------------  -----  \n",
      " 0   FinishTimeConverted  2811 non-null   object \n",
      " 1   FullName             2811 non-null   object \n",
      " 2   Gender               2809 non-null   object \n",
      " 3   ISO2                 2811 non-null   object \n",
      " 4   SubEvent             2811 non-null   object \n",
      " 5   minutes              2811 non-null   float64\n",
      "dtypes: float64(1), object(5)\n",
      "memory usage: 131.9+ KB\n"
     ]
    }
   ],
   "source": [
    "mar_sub19.info()"
   ]
  },
  {
   "cell_type": "code",
   "execution_count": 11,
   "metadata": {},
   "outputs": [
    {
     "data": {
      "text/html": [
       "<div>\n",
       "<style scoped>\n",
       "    .dataframe tbody tr th:only-of-type {\n",
       "        vertical-align: middle;\n",
       "    }\n",
       "\n",
       "    .dataframe tbody tr th {\n",
       "        vertical-align: top;\n",
       "    }\n",
       "\n",
       "    .dataframe thead th {\n",
       "        text-align: right;\n",
       "    }\n",
       "</style>\n",
       "<table border=\"1\" class=\"dataframe\">\n",
       "  <thead>\n",
       "    <tr style=\"text-align: right;\">\n",
       "      <th></th>\n",
       "      <th>FinishTimeConverted</th>\n",
       "      <th>FullName</th>\n",
       "      <th>Gender</th>\n",
       "      <th>ISO2</th>\n",
       "      <th>SubEvent</th>\n",
       "      <th>minutes</th>\n",
       "    </tr>\n",
       "  </thead>\n",
       "  <tbody>\n",
       "    <tr>\n",
       "      <th>0</th>\n",
       "      <td>1:37:54</td>\n",
       "      <td>Travis Peruski</td>\n",
       "      <td>M</td>\n",
       "      <td>US</td>\n",
       "      <td>2019 Rock 'n' Roll Nashville Marathon</td>\n",
       "      <td>97.900000</td>\n",
       "    </tr>\n",
       "    <tr>\n",
       "      <th>1</th>\n",
       "      <td>2:34:59</td>\n",
       "      <td>Scott Wietecha</td>\n",
       "      <td>M</td>\n",
       "      <td>US</td>\n",
       "      <td>2019 Rock 'n' Roll Nashville Marathon</td>\n",
       "      <td>154.983333</td>\n",
       "    </tr>\n",
       "  </tbody>\n",
       "</table>\n",
       "</div>"
      ],
      "text/plain": [
       "  FinishTimeConverted        FullName Gender ISO2  \\\n",
       "0             1:37:54  Travis Peruski      M   US   \n",
       "1             2:34:59  Scott Wietecha      M   US   \n",
       "\n",
       "                                SubEvent     minutes  \n",
       "0  2019 Rock 'n' Roll Nashville Marathon   97.900000  \n",
       "1  2019 Rock 'n' Roll Nashville Marathon  154.983333  "
      ]
     },
     "execution_count": 11,
     "metadata": {},
     "output_type": "execute_result"
    }
   ],
   "source": [
    "mar_sub19.head(2)"
   ]
  },
  {
   "cell_type": "code",
   "execution_count": 12,
   "metadata": {},
   "outputs": [
    {
     "data": {
      "text/html": [
       "<div>\n",
       "<style scoped>\n",
       "    .dataframe tbody tr th:only-of-type {\n",
       "        vertical-align: middle;\n",
       "    }\n",
       "\n",
       "    .dataframe tbody tr th {\n",
       "        vertical-align: top;\n",
       "    }\n",
       "\n",
       "    .dataframe thead th {\n",
       "        text-align: right;\n",
       "    }\n",
       "</style>\n",
       "<table border=\"1\" class=\"dataframe\">\n",
       "  <thead>\n",
       "    <tr style=\"text-align: right;\">\n",
       "      <th></th>\n",
       "      <th>FinishTimeConverted</th>\n",
       "      <th>FullName</th>\n",
       "      <th>Gender</th>\n",
       "      <th>ISO2</th>\n",
       "      <th>SubEvent</th>\n",
       "      <th>minutes</th>\n",
       "    </tr>\n",
       "  </thead>\n",
       "  <tbody>\n",
       "    <tr>\n",
       "      <th>0</th>\n",
       "      <td>2:28:16</td>\n",
       "      <td>Scott Wietecha</td>\n",
       "      <td>M</td>\n",
       "      <td>US</td>\n",
       "      <td>2018 Rock 'n' Roll Nashville Marathon</td>\n",
       "      <td>148.266667</td>\n",
       "    </tr>\n",
       "    <tr>\n",
       "      <th>1</th>\n",
       "      <td>2:29:52</td>\n",
       "      <td>Garang Madut</td>\n",
       "      <td>M</td>\n",
       "      <td>US</td>\n",
       "      <td>2018 Rock 'n' Roll Nashville Marathon</td>\n",
       "      <td>149.866667</td>\n",
       "    </tr>\n",
       "  </tbody>\n",
       "</table>\n",
       "</div>"
      ],
      "text/plain": [
       "  FinishTimeConverted        FullName Gender ISO2  \\\n",
       "0             2:28:16  Scott Wietecha      M   US   \n",
       "1             2:29:52    Garang Madut      M   US   \n",
       "\n",
       "                                SubEvent     minutes  \n",
       "0  2018 Rock 'n' Roll Nashville Marathon  148.266667  \n",
       "1  2018 Rock 'n' Roll Nashville Marathon  149.866667  "
      ]
     },
     "execution_count": 12,
     "metadata": {},
     "output_type": "execute_result"
    }
   ],
   "source": [
    "mar_sub18.head(2)"
   ]
  },
  {
   "cell_type": "code",
   "execution_count": 13,
   "metadata": {},
   "outputs": [
    {
     "name": "stdout",
     "output_type": "stream",
     "text": [
      "<class 'pandas.core.frame.DataFrame'>\n",
      "RangeIndex: 2115 entries, 0 to 2114\n",
      "Data columns (total 6 columns):\n",
      " #   Column               Non-Null Count  Dtype  \n",
      "---  ------               --------------  -----  \n",
      " 0   FinishTimeConverted  2115 non-null   object \n",
      " 1   FullName             2115 non-null   object \n",
      " 2   Gender               2114 non-null   object \n",
      " 3   ISO2                 2115 non-null   object \n",
      " 4   SubEvent             2115 non-null   object \n",
      " 5   minutes              2115 non-null   float64\n",
      "dtypes: float64(1), object(5)\n",
      "memory usage: 99.3+ KB\n"
     ]
    }
   ],
   "source": [
    "mar_sub18.info()"
   ]
  },
  {
   "cell_type": "code",
   "execution_count": 14,
   "metadata": {},
   "outputs": [
    {
     "data": {
      "text/plain": [
       "''"
      ]
     },
     "execution_count": 14,
     "metadata": {},
     "output_type": "execute_result"
    },
    {
     "data": {
      "image/png": "[encoded data removed]",
      "text/plain": [
       "<Figure size 504x504 with 3 Axes>"
      ]
     },
     "metadata": {
      "needs_background": "light"
     },
     "output_type": "display_data"
    }
   ],
   "source": [
    "f, (ax1,ax2,ax3) = plt.subplots(nrows = 1, ncols = 3, sharey = True, figsize =(7,7))\n",
    "f.suptitle('Rock N Roll Marathon Average Time per Year by Gender')\n",
    "\n",
    "sns.barplot(ax=ax1, x='Gender', y='minutes', data = mar_sub19)\n",
    "sns.barplot(ax=ax2, x='Gender', y='minutes', data = mar_sub18)\n",
    "sns.barplot(ax=ax3, x='Gender', y='minutes', data = mar_sub17)\n",
    "\n",
    "ax1.set_title('2019')\n",
    "ax2.set_title('2018')\n",
    "ax3.set_title('2017')\n",
    ";"
   ]
  },
  {
   "cell_type": "code",
   "execution_count": null,
   "metadata": {},
   "outputs": [],
   "source": []
  }
 ],
 "metadata": {
  "kernelspec": {
   "display_name": "Python 3",
   "language": "python",
   "name": "python3"
  },
  "language_info": {
   "codemirror_mode": {
    "name": "ipython",
    "version": 3
   },
   "file_extension": ".py",
   "mimetype": "text/x-python",
   "name": "python",
   "nbconvert_exporter": "python",
   "pygments_lexer": "ipython3",
   "version": "3.8.3"
  }
 },
 "nbformat": 4,
 "nbformat_minor": 4
}
